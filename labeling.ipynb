{
 "cells": [
  {
   "cell_type": "code",
   "execution_count": 48,
   "metadata": {
    "collapsed": true
   },
   "outputs": [],
   "source": [
    "import pandas as pd\n",
    "df_true = pd.read_csv(\"datasets/ISOT/True.csv\")\n",
    "df_false = pd.read_csv(\"datasets/ISOT/Fake.csv\")\n",
    "\n",
    "import numpy as np\n",
    "import pandas as pd\n",
    "import re\n",
    "import string"
   ]
  },
  {
   "cell_type": "code",
   "execution_count": 49,
   "outputs": [],
   "source": [
    "df_true['label'] = 1\n",
    "df_false['label'] = 0\n",
    "label_dict={'fake':0,'true':1}\n",
    "dataframe = pd.concat([df_true, df_false])"
   ],
   "metadata": {
    "collapsed": false
   }
  },
  {
   "cell_type": "code",
   "execution_count": 50,
   "outputs": [],
   "source": [
    "dataframe.to_csv(\"datasets/ISOT/merged/dataset.csv\")"
   ],
   "metadata": {
    "collapsed": false
   }
  },
  {
   "cell_type": "code",
   "execution_count": 51,
   "outputs": [],
   "source": [
    "merged = pd.read_csv(\"datasets/ISOT/merged/dataset.csv\")"
   ],
   "metadata": {
    "collapsed": false
   }
  },
  {
   "cell_type": "code",
   "execution_count": 52,
   "outputs": [],
   "source": [
    "def clean_text(text):\n",
    "    text = str(text).lower()\n",
    "    text = re.sub(r'\\[.*?\\]', ' ', text)  # Remove text in square brackets\n",
    "    text = re.sub(r'https?://\\S+|www\\.\\S+', ' ', text)  # Remove links\n",
    "    text = re.sub(r'<.*?>+', ' ', text)  # Remove HTML tags\n",
    "    text = re.sub(r'[{}]+'.format(re.escape(string.punctuation)), ' ', text)  # Remove punctuation\n",
    "    text = re.sub(r'\\n', ' ', text)  # Remove newline characters\n",
    "    text = re.sub(r'[.]', ' ', text)  # Remove period\n",
    "    return text"
   ],
   "metadata": {
    "collapsed": false
   }
  },
  {
   "cell_type": "code",
   "execution_count": 53,
   "outputs": [],
   "source": [
    "merged.text = merged.text.map(clean_text)"
   ],
   "metadata": {
    "collapsed": false
   }
  },
  {
   "cell_type": "code",
   "execution_count": 54,
   "outputs": [],
   "source": [
    "def add_cls_token(df, content_column='content', subject_column='subject', title_column='title', text_column='text', date_column='date'):\n",
    "    text_sep = \"content is\"\n",
    "    title_sep = \"title is\"\n",
    "    additional_text = \" [SEP], \"\n",
    "\n",
    "    df[content_column] = \"[CLS] at \" +df[date_column]+additional_text+ df[subject_column] + additional_text+ title_sep + df[title_column] + additional_text+ text_sep + \" \" + df[text_column]+ additional_text+\" .\"\n",
    "\n",
    "    return df\n"
   ],
   "metadata": {
    "collapsed": false
   }
  },
  {
   "cell_type": "code",
   "execution_count": 55,
   "outputs": [],
   "source": [
    "merged = add_cls_token(merged)"
   ],
   "metadata": {
    "collapsed": false
   }
  },
  {
   "cell_type": "code",
   "execution_count": 56,
   "outputs": [
    {
     "data": {
      "text/plain": "   Unnamed: 0                                              title  \\\n0           0  As U.S. budget fight looms, Republicans flip t...   \n1           1  U.S. military to accept transgender recruits o...   \n2           2  Senior U.S. Republican senator: 'Let Mr. Muell...   \n3           3  FBI Russia probe helped by Australian diplomat...   \n4           4  Trump wants Postal Service to charge 'much mor...   \n\n                                                text       subject  \\\n0  washington  reuters    the head of a conservat...  politicsNews   \n1  washington  reuters    transgender people will...  politicsNews   \n2  washington  reuters    the special counsel inv...  politicsNews   \n3  washington  reuters    trump campaign adviser ...  politicsNews   \n4  seattle washington  reuters    president donal...  politicsNews   \n\n                 date  label  \\\n0  December 31, 2017       1   \n1  December 29, 2017       1   \n2  December 31, 2017       1   \n3  December 30, 2017       1   \n4  December 29, 2017       1   \n\n                                             content  \n0  [CLS] at December 31, 2017  [SEP], politicsNew...  \n1  [CLS] at December 29, 2017  [SEP], politicsNew...  \n2  [CLS] at December 31, 2017  [SEP], politicsNew...  \n3  [CLS] at December 30, 2017  [SEP], politicsNew...  \n4  [CLS] at December 29, 2017  [SEP], politicsNew...  ",
      "text/html": "<div>\n<style scoped>\n    .dataframe tbody tr th:only-of-type {\n        vertical-align: middle;\n    }\n\n    .dataframe tbody tr th {\n        vertical-align: top;\n    }\n\n    .dataframe thead th {\n        text-align: right;\n    }\n</style>\n<table border=\"1\" class=\"dataframe\">\n  <thead>\n    <tr style=\"text-align: right;\">\n      <th></th>\n      <th>Unnamed: 0</th>\n      <th>title</th>\n      <th>text</th>\n      <th>subject</th>\n      <th>date</th>\n      <th>label</th>\n      <th>content</th>\n    </tr>\n  </thead>\n  <tbody>\n    <tr>\n      <th>0</th>\n      <td>0</td>\n      <td>As U.S. budget fight looms, Republicans flip t...</td>\n      <td>washington  reuters    the head of a conservat...</td>\n      <td>politicsNews</td>\n      <td>December 31, 2017</td>\n      <td>1</td>\n      <td>[CLS] at December 31, 2017  [SEP], politicsNew...</td>\n    </tr>\n    <tr>\n      <th>1</th>\n      <td>1</td>\n      <td>U.S. military to accept transgender recruits o...</td>\n      <td>washington  reuters    transgender people will...</td>\n      <td>politicsNews</td>\n      <td>December 29, 2017</td>\n      <td>1</td>\n      <td>[CLS] at December 29, 2017  [SEP], politicsNew...</td>\n    </tr>\n    <tr>\n      <th>2</th>\n      <td>2</td>\n      <td>Senior U.S. Republican senator: 'Let Mr. Muell...</td>\n      <td>washington  reuters    the special counsel inv...</td>\n      <td>politicsNews</td>\n      <td>December 31, 2017</td>\n      <td>1</td>\n      <td>[CLS] at December 31, 2017  [SEP], politicsNew...</td>\n    </tr>\n    <tr>\n      <th>3</th>\n      <td>3</td>\n      <td>FBI Russia probe helped by Australian diplomat...</td>\n      <td>washington  reuters    trump campaign adviser ...</td>\n      <td>politicsNews</td>\n      <td>December 30, 2017</td>\n      <td>1</td>\n      <td>[CLS] at December 30, 2017  [SEP], politicsNew...</td>\n    </tr>\n    <tr>\n      <th>4</th>\n      <td>4</td>\n      <td>Trump wants Postal Service to charge 'much mor...</td>\n      <td>seattle washington  reuters    president donal...</td>\n      <td>politicsNews</td>\n      <td>December 29, 2017</td>\n      <td>1</td>\n      <td>[CLS] at December 29, 2017  [SEP], politicsNew...</td>\n    </tr>\n  </tbody>\n</table>\n</div>"
     },
     "execution_count": 56,
     "metadata": {},
     "output_type": "execute_result"
    }
   ],
   "source": [
    "merged.head()"
   ],
   "metadata": {
    "collapsed": false
   }
  },
  {
   "cell_type": "code",
   "execution_count": 57,
   "outputs": [],
   "source": [
    "import tensorflow as tf\n",
    "import tensorflow_hub as hub\n",
    "\n",
    "def setup_embedding_models(dataframe):\n",
    "    # Check GPU availability\n",
    "    if tf.test.is_gpu_available():\n",
    "        print(\"GPU is available. Using GPU for computation.\")\n",
    "        tf.config.experimental.set_memory_growth(tf.config.list_physical_devices('GPU')[0], True)\n",
    "    else:\n",
    "        print(\"GPU is not available. Using CPU for computation.\")\n",
    "\n",
    "    print(\"Loading embedding models...\")\n",
    "    use_model = hub.load(\"https://tfhub.dev/google/universal-sentence-encoder/4\")\n",
    "    print(\"Models loaded successfully!\")\n",
    "\n",
    "    def get_embeddings(text):\n",
    "        return use_model(text).numpy()\n",
    "\n",
    "    # Get the embeddings for each non-empty text string in the series\n",
    "    embeddings = dataframe.content.apply(lambda x: get_embeddings([x]) if x.strip() else [])\n",
    "\n",
    "    # Convert the embeddings to NumPy arrays\n",
    "    embeddings = embeddings.apply(lambda x: np.array(x[0]) if len(x) > 0 else np.array([]))\n",
    "\n",
    "    dataframe['embedding'] = embeddings\n",
    "    return dataframe"
   ],
   "metadata": {
    "collapsed": false
   }
  },
  {
   "cell_type": "code",
   "execution_count": 58,
   "outputs": [
    {
     "name": "stdout",
     "output_type": "stream",
     "text": [
      "GPU is not available. Using CPU for computation.\n",
      "Loading embedding models...\n",
      "Models loaded successfully!\n",
      "0        [0.022326546, -0.054701515, 0.020800635, -0.04...\n",
      "1        [-0.054021433, -0.053802226, -0.0062716617, -0...\n",
      "2        [0.042473506, 0.010865708, -0.054122575, -0.04...\n",
      "3        [-0.0043542148, 0.03477461, -0.04886739, -0.05...\n",
      "4        [-0.05212041, -0.052163288, -0.045429505, 0.04...\n",
      "                               ...                        \n",
      "44893    [-0.035157423, 0.018418824, -0.05020842, -0.02...\n",
      "44894    [-0.053530693, -0.059889995, -0.045325857, 0.0...\n",
      "44895    [0.041855942, -0.049123228, 0.026592048, -0.02...\n",
      "44896    [-0.030299284, -0.059425127, -0.04813366, 0.03...\n",
      "44897    [-0.01798755, -0.031110464, -0.052893, -0.0175...\n",
      "Name: embedding, Length: 44898, dtype: object\n"
     ]
    }
   ],
   "source": [
    "merged = setup_embedding_models(merged)\n",
    "print(merged['embedding'])"
   ],
   "metadata": {
    "collapsed": false
   }
  },
  {
   "cell_type": "code",
   "execution_count": 59,
   "outputs": [],
   "source": [
    "data = np.array(merged.embedding.apply(pd.Series).astype(float))"
   ],
   "metadata": {
    "collapsed": false
   }
  },
  {
   "cell_type": "code",
   "execution_count": 60,
   "outputs": [
    {
     "data": {
      "text/plain": "(44898, 512)"
     },
     "execution_count": 60,
     "metadata": {},
     "output_type": "execute_result"
    }
   ],
   "source": [
    "data.shape"
   ],
   "metadata": {
    "collapsed": false
   }
  },
  {
   "cell_type": "code",
   "execution_count": 61,
   "outputs": [],
   "source": [
    "from sklearn.metrics import accuracy_score"
   ],
   "metadata": {
    "collapsed": false
   }
  },
  {
   "cell_type": "code",
   "execution_count": 62,
   "outputs": [
    {
     "data": {
      "text/plain": "KMeans(n_clusters=2, random_state=42)",
      "text/html": "<style>#sk-container-id-2 {\n  /* Definition of color scheme common for light and dark mode */\n  --sklearn-color-text: black;\n  --sklearn-color-line: gray;\n  /* Definition of color scheme for unfitted estimators */\n  --sklearn-color-unfitted-level-0: #fff5e6;\n  --sklearn-color-unfitted-level-1: #f6e4d2;\n  --sklearn-color-unfitted-level-2: #ffe0b3;\n  --sklearn-color-unfitted-level-3: chocolate;\n  /* Definition of color scheme for fitted estimators */\n  --sklearn-color-fitted-level-0: #f0f8ff;\n  --sklearn-color-fitted-level-1: #d4ebff;\n  --sklearn-color-fitted-level-2: #b3dbfd;\n  --sklearn-color-fitted-level-3: cornflowerblue;\n\n  /* Specific color for light theme */\n  --sklearn-color-text-on-default-background: var(--sg-text-color, var(--theme-code-foreground, var(--jp-content-font-color1, black)));\n  --sklearn-color-background: var(--sg-background-color, var(--theme-background, var(--jp-layout-color0, white)));\n  --sklearn-color-border-box: var(--sg-text-color, var(--theme-code-foreground, var(--jp-content-font-color1, black)));\n  --sklearn-color-icon: #696969;\n\n  @media (prefers-color-scheme: dark) {\n    /* Redefinition of color scheme for dark theme */\n    --sklearn-color-text-on-default-background: var(--sg-text-color, var(--theme-code-foreground, var(--jp-content-font-color1, white)));\n    --sklearn-color-background: var(--sg-background-color, var(--theme-background, var(--jp-layout-color0, #111)));\n    --sklearn-color-border-box: var(--sg-text-color, var(--theme-code-foreground, var(--jp-content-font-color1, white)));\n    --sklearn-color-icon: #878787;\n  }\n}\n\n#sk-container-id-2 {\n  color: var(--sklearn-color-text);\n}\n\n#sk-container-id-2 pre {\n  padding: 0;\n}\n\n#sk-container-id-2 input.sk-hidden--visually {\n  border: 0;\n  clip: rect(1px 1px 1px 1px);\n  clip: rect(1px, 1px, 1px, 1px);\n  height: 1px;\n  margin: -1px;\n  overflow: hidden;\n  padding: 0;\n  position: absolute;\n  width: 1px;\n}\n\n#sk-container-id-2 div.sk-dashed-wrapped {\n  border: 1px dashed var(--sklearn-color-line);\n  margin: 0 0.4em 0.5em 0.4em;\n  box-sizing: border-box;\n  padding-bottom: 0.4em;\n  background-color: var(--sklearn-color-background);\n}\n\n#sk-container-id-2 div.sk-container {\n  /* jupyter's `normalize.less` sets `[hidden] { display: none; }`\n     but bootstrap.min.css set `[hidden] { display: none !important; }`\n     so we also need the `!important` here to be able to override the\n     default hidden behavior on the sphinx rendered scikit-learn.org.\n     See: https://github.com/scikit-learn/scikit-learn/issues/21755 */\n  display: inline-block !important;\n  position: relative;\n}\n\n#sk-container-id-2 div.sk-text-repr-fallback {\n  display: none;\n}\n\ndiv.sk-parallel-item,\ndiv.sk-serial,\ndiv.sk-item {\n  /* draw centered vertical line to link estimators */\n  background-image: linear-gradient(var(--sklearn-color-text-on-default-background), var(--sklearn-color-text-on-default-background));\n  background-size: 2px 100%;\n  background-repeat: no-repeat;\n  background-position: center center;\n}\n\n/* Parallel-specific style estimator block */\n\n#sk-container-id-2 div.sk-parallel-item::after {\n  content: \"\";\n  width: 100%;\n  border-bottom: 2px solid var(--sklearn-color-text-on-default-background);\n  flex-grow: 1;\n}\n\n#sk-container-id-2 div.sk-parallel {\n  display: flex;\n  align-items: stretch;\n  justify-content: center;\n  background-color: var(--sklearn-color-background);\n  position: relative;\n}\n\n#sk-container-id-2 div.sk-parallel-item {\n  display: flex;\n  flex-direction: column;\n}\n\n#sk-container-id-2 div.sk-parallel-item:first-child::after {\n  align-self: flex-end;\n  width: 50%;\n}\n\n#sk-container-id-2 div.sk-parallel-item:last-child::after {\n  align-self: flex-start;\n  width: 50%;\n}\n\n#sk-container-id-2 div.sk-parallel-item:only-child::after {\n  width: 0;\n}\n\n/* Serial-specific style estimator block */\n\n#sk-container-id-2 div.sk-serial {\n  display: flex;\n  flex-direction: column;\n  align-items: center;\n  background-color: var(--sklearn-color-background);\n  padding-right: 1em;\n  padding-left: 1em;\n}\n\n\n/* Toggleable style: style used for estimator/Pipeline/ColumnTransformer box that is\nclickable and can be expanded/collapsed.\n- Pipeline and ColumnTransformer use this feature and define the default style\n- Estimators will overwrite some part of the style using the `sk-estimator` class\n*/\n\n/* Pipeline and ColumnTransformer style (default) */\n\n#sk-container-id-2 div.sk-toggleable {\n  /* Default theme specific background. It is overwritten whether we have a\n  specific estimator or a Pipeline/ColumnTransformer */\n  background-color: var(--sklearn-color-background);\n}\n\n/* Toggleable label */\n#sk-container-id-2 label.sk-toggleable__label {\n  cursor: pointer;\n  display: block;\n  width: 100%;\n  margin-bottom: 0;\n  padding: 0.5em;\n  box-sizing: border-box;\n  text-align: center;\n}\n\n#sk-container-id-2 label.sk-toggleable__label-arrow:before {\n  /* Arrow on the left of the label */\n  content: \"▸\";\n  float: left;\n  margin-right: 0.25em;\n  color: var(--sklearn-color-icon);\n}\n\n#sk-container-id-2 label.sk-toggleable__label-arrow:hover:before {\n  color: var(--sklearn-color-text);\n}\n\n/* Toggleable content - dropdown */\n\n#sk-container-id-2 div.sk-toggleable__content {\n  max-height: 0;\n  max-width: 0;\n  overflow: hidden;\n  text-align: left;\n  /* unfitted */\n  background-color: var(--sklearn-color-unfitted-level-0);\n}\n\n#sk-container-id-2 div.sk-toggleable__content.fitted {\n  /* fitted */\n  background-color: var(--sklearn-color-fitted-level-0);\n}\n\n#sk-container-id-2 div.sk-toggleable__content pre {\n  margin: 0.2em;\n  border-radius: 0.25em;\n  color: var(--sklearn-color-text);\n  /* unfitted */\n  background-color: var(--sklearn-color-unfitted-level-0);\n}\n\n#sk-container-id-2 div.sk-toggleable__content.fitted pre {\n  /* unfitted */\n  background-color: var(--sklearn-color-fitted-level-0);\n}\n\n#sk-container-id-2 input.sk-toggleable__control:checked~div.sk-toggleable__content {\n  /* Expand drop-down */\n  max-height: 200px;\n  max-width: 100%;\n  overflow: auto;\n}\n\n#sk-container-id-2 input.sk-toggleable__control:checked~label.sk-toggleable__label-arrow:before {\n  content: \"▾\";\n}\n\n/* Pipeline/ColumnTransformer-specific style */\n\n#sk-container-id-2 div.sk-label input.sk-toggleable__control:checked~label.sk-toggleable__label {\n  color: var(--sklearn-color-text);\n  background-color: var(--sklearn-color-unfitted-level-2);\n}\n\n#sk-container-id-2 div.sk-label.fitted input.sk-toggleable__control:checked~label.sk-toggleable__label {\n  background-color: var(--sklearn-color-fitted-level-2);\n}\n\n/* Estimator-specific style */\n\n/* Colorize estimator box */\n#sk-container-id-2 div.sk-estimator input.sk-toggleable__control:checked~label.sk-toggleable__label {\n  /* unfitted */\n  background-color: var(--sklearn-color-unfitted-level-2);\n}\n\n#sk-container-id-2 div.sk-estimator.fitted input.sk-toggleable__control:checked~label.sk-toggleable__label {\n  /* fitted */\n  background-color: var(--sklearn-color-fitted-level-2);\n}\n\n#sk-container-id-2 div.sk-label label.sk-toggleable__label,\n#sk-container-id-2 div.sk-label label {\n  /* The background is the default theme color */\n  color: var(--sklearn-color-text-on-default-background);\n}\n\n/* On hover, darken the color of the background */\n#sk-container-id-2 div.sk-label:hover label.sk-toggleable__label {\n  color: var(--sklearn-color-text);\n  background-color: var(--sklearn-color-unfitted-level-2);\n}\n\n/* Label box, darken color on hover, fitted */\n#sk-container-id-2 div.sk-label.fitted:hover label.sk-toggleable__label.fitted {\n  color: var(--sklearn-color-text);\n  background-color: var(--sklearn-color-fitted-level-2);\n}\n\n/* Estimator label */\n\n#sk-container-id-2 div.sk-label label {\n  font-family: monospace;\n  font-weight: bold;\n  display: inline-block;\n  line-height: 1.2em;\n}\n\n#sk-container-id-2 div.sk-label-container {\n  text-align: center;\n}\n\n/* Estimator-specific */\n#sk-container-id-2 div.sk-estimator {\n  font-family: monospace;\n  border: 1px dotted var(--sklearn-color-border-box);\n  border-radius: 0.25em;\n  box-sizing: border-box;\n  margin-bottom: 0.5em;\n  /* unfitted */\n  background-color: var(--sklearn-color-unfitted-level-0);\n}\n\n#sk-container-id-2 div.sk-estimator.fitted {\n  /* fitted */\n  background-color: var(--sklearn-color-fitted-level-0);\n}\n\n/* on hover */\n#sk-container-id-2 div.sk-estimator:hover {\n  /* unfitted */\n  background-color: var(--sklearn-color-unfitted-level-2);\n}\n\n#sk-container-id-2 div.sk-estimator.fitted:hover {\n  /* fitted */\n  background-color: var(--sklearn-color-fitted-level-2);\n}\n\n/* Specification for estimator info (e.g. \"i\" and \"?\") */\n\n/* Common style for \"i\" and \"?\" */\n\n.sk-estimator-doc-link,\na:link.sk-estimator-doc-link,\na:visited.sk-estimator-doc-link {\n  float: right;\n  font-size: smaller;\n  line-height: 1em;\n  font-family: monospace;\n  background-color: var(--sklearn-color-background);\n  border-radius: 1em;\n  height: 1em;\n  width: 1em;\n  text-decoration: none !important;\n  margin-left: 1ex;\n  /* unfitted */\n  border: var(--sklearn-color-unfitted-level-1) 1pt solid;\n  color: var(--sklearn-color-unfitted-level-1);\n}\n\n.sk-estimator-doc-link.fitted,\na:link.sk-estimator-doc-link.fitted,\na:visited.sk-estimator-doc-link.fitted {\n  /* fitted */\n  border: var(--sklearn-color-fitted-level-1) 1pt solid;\n  color: var(--sklearn-color-fitted-level-1);\n}\n\n/* On hover */\ndiv.sk-estimator:hover .sk-estimator-doc-link:hover,\n.sk-estimator-doc-link:hover,\ndiv.sk-label-container:hover .sk-estimator-doc-link:hover,\n.sk-estimator-doc-link:hover {\n  /* unfitted */\n  background-color: var(--sklearn-color-unfitted-level-3);\n  color: var(--sklearn-color-background);\n  text-decoration: none;\n}\n\ndiv.sk-estimator.fitted:hover .sk-estimator-doc-link.fitted:hover,\n.sk-estimator-doc-link.fitted:hover,\ndiv.sk-label-container:hover .sk-estimator-doc-link.fitted:hover,\n.sk-estimator-doc-link.fitted:hover {\n  /* fitted */\n  background-color: var(--sklearn-color-fitted-level-3);\n  color: var(--sklearn-color-background);\n  text-decoration: none;\n}\n\n/* Span, style for the box shown on hovering the info icon */\n.sk-estimator-doc-link span {\n  display: none;\n  z-index: 9999;\n  position: relative;\n  font-weight: normal;\n  right: .2ex;\n  padding: .5ex;\n  margin: .5ex;\n  width: min-content;\n  min-width: 20ex;\n  max-width: 50ex;\n  color: var(--sklearn-color-text);\n  box-shadow: 2pt 2pt 4pt #999;\n  /* unfitted */\n  background: var(--sklearn-color-unfitted-level-0);\n  border: .5pt solid var(--sklearn-color-unfitted-level-3);\n}\n\n.sk-estimator-doc-link.fitted span {\n  /* fitted */\n  background: var(--sklearn-color-fitted-level-0);\n  border: var(--sklearn-color-fitted-level-3);\n}\n\n.sk-estimator-doc-link:hover span {\n  display: block;\n}\n\n/* \"?\"-specific style due to the `<a>` HTML tag */\n\n#sk-container-id-2 a.estimator_doc_link {\n  float: right;\n  font-size: 1rem;\n  line-height: 1em;\n  font-family: monospace;\n  background-color: var(--sklearn-color-background);\n  border-radius: 1rem;\n  height: 1rem;\n  width: 1rem;\n  text-decoration: none;\n  /* unfitted */\n  color: var(--sklearn-color-unfitted-level-1);\n  border: var(--sklearn-color-unfitted-level-1) 1pt solid;\n}\n\n#sk-container-id-2 a.estimator_doc_link.fitted {\n  /* fitted */\n  border: var(--sklearn-color-fitted-level-1) 1pt solid;\n  color: var(--sklearn-color-fitted-level-1);\n}\n\n/* On hover */\n#sk-container-id-2 a.estimator_doc_link:hover {\n  /* unfitted */\n  background-color: var(--sklearn-color-unfitted-level-3);\n  color: var(--sklearn-color-background);\n  text-decoration: none;\n}\n\n#sk-container-id-2 a.estimator_doc_link.fitted:hover {\n  /* fitted */\n  background-color: var(--sklearn-color-fitted-level-3);\n}\n</style><div id=\"sk-container-id-2\" class=\"sk-top-container\"><div class=\"sk-text-repr-fallback\"><pre>KMeans(n_clusters=2, random_state=42)</pre><b>In a Jupyter environment, please rerun this cell to show the HTML representation or trust the notebook. <br />On GitHub, the HTML representation is unable to render, please try loading this page with nbviewer.org.</b></div><div class=\"sk-container\" hidden><div class=\"sk-item\"><div class=\"sk-estimator fitted sk-toggleable\"><input class=\"sk-toggleable__control sk-hidden--visually\" id=\"sk-estimator-id-2\" type=\"checkbox\" checked><label for=\"sk-estimator-id-2\" class=\"sk-toggleable__label fitted sk-toggleable__label-arrow fitted\">&nbsp;&nbsp;KMeans<a class=\"sk-estimator-doc-link fitted\" rel=\"noreferrer\" target=\"_blank\" href=\"https://scikit-learn.org/1.5/modules/generated/sklearn.cluster.KMeans.html\">?<span>Documentation for KMeans</span></a><span class=\"sk-estimator-doc-link fitted\">i<span>Fitted</span></span></label><div class=\"sk-toggleable__content fitted\"><pre>KMeans(n_clusters=2, random_state=42)</pre></div> </div></div></div></div>"
     },
     "execution_count": 62,
     "metadata": {},
     "output_type": "execute_result"
    }
   ],
   "source": [
    "from sklearn.cluster import KMeans\n",
    "\n",
    "# K-Means\n",
    "km = KMeans(n_clusters=2, init='k-means++', max_iter=300, tol=1e-4, random_state=42)\n",
    "km.fit(data)"
   ],
   "metadata": {
    "collapsed": false
   }
  },
  {
   "cell_type": "code",
   "execution_count": 63,
   "outputs": [],
   "source": [
    "merged['K_means'] = np.abs(km.predict(data) - 1)"
   ],
   "metadata": {
    "collapsed": false
   }
  },
  {
   "cell_type": "code",
   "execution_count": 64,
   "outputs": [],
   "source": [
    "kmeans_accuracy = accuracy_score(merged.label, merged.K_means)"
   ],
   "metadata": {
    "collapsed": false
   }
  },
  {
   "cell_type": "code",
   "execution_count": null,
   "outputs": [],
   "source": [
    "kmeans_accuracy"
   ],
   "metadata": {
    "collapsed": false,
    "pycharm": {
     "is_executing": true
    }
   }
  },
  {
   "cell_type": "code",
   "execution_count": null,
   "outputs": [],
   "source": [
    "from sklearn.cluster import Birch\n",
    "\n",
    "model = Birch(branching_factor = 50, n_clusters = 2, threshold = 0.5)\n",
    "model.fit(data)\n",
    "merged['Birch']= np.abs(model.predict(data) - 1)"
   ],
   "metadata": {
    "collapsed": false,
    "pycharm": {
     "is_executing": true
    }
   }
  },
  {
   "cell_type": "code",
   "execution_count": null,
   "outputs": [],
   "source": [
    "birch_accuracy = accuracy_score(merged.label, merged.Birch)"
   ],
   "metadata": {
    "collapsed": false,
    "pycharm": {
     "is_executing": true
    }
   }
  },
  {
   "cell_type": "code",
   "execution_count": 68,
   "outputs": [
    {
     "data": {
      "text/plain": "0.6545503140451691"
     },
     "execution_count": 68,
     "metadata": {},
     "output_type": "execute_result"
    }
   ],
   "source": [
    "birch_accuracy"
   ],
   "metadata": {
    "collapsed": false
   }
  },
  {
   "cell_type": "code",
   "execution_count": 69,
   "outputs": [],
   "source": [
    "from sklearn.mixture import GaussianMixture\n",
    "nclusters=2\n",
    "gmm = GaussianMixture(n_components=nclusters)\n",
    "gmm.fit(data)\n",
    "merged['GMM']=gmm.predict(data)"
   ],
   "metadata": {
    "collapsed": false
   }
  },
  {
   "cell_type": "code",
   "execution_count": 70,
   "outputs": [],
   "source": [
    "gmm_accuracy = accuracy_score(merged.label, merged.GMM)"
   ],
   "metadata": {
    "collapsed": false
   }
  },
  {
   "cell_type": "code",
   "execution_count": 71,
   "outputs": [
    {
     "data": {
      "text/plain": "0.4107087175375295"
     },
     "execution_count": 71,
     "metadata": {},
     "output_type": "execute_result"
    }
   ],
   "source": [
    "gmm_accuracy"
   ],
   "metadata": {
    "collapsed": false
   }
  },
  {
   "cell_type": "code",
   "execution_count": 72,
   "outputs": [],
   "source": [
    "def majority_voting(predictions):\n",
    "    return 0 if predictions.count(0) > predictions.count(1) else 1"
   ],
   "metadata": {
    "collapsed": false
   }
  },
  {
   "cell_type": "code",
   "execution_count": 73,
   "outputs": [],
   "source": [
    "merged['majority_voting'] = merged.apply(\n",
    "    lambda row: majority_voting([row['Birch'], row['K_means'], row['GMM']]),\n",
    "    axis=1\n",
    ")"
   ],
   "metadata": {
    "collapsed": false
   }
  },
  {
   "cell_type": "code",
   "execution_count": 74,
   "outputs": [
    {
     "data": {
      "text/plain": "       Unnamed: 0                                              title  \\\n0               0  As U.S. budget fight looms, Republicans flip t...   \n1               1  U.S. military to accept transgender recruits o...   \n2               2  Senior U.S. Republican senator: 'Let Mr. Muell...   \n3               3  FBI Russia probe helped by Australian diplomat...   \n4               4  Trump wants Postal Service to charge 'much mor...   \n...           ...                                                ...   \n44893       23476  McPain: John McCain Furious That Iran Treated ...   \n44894       23477  JUSTICE? Yahoo Settles E-mail Privacy Class-ac...   \n44895       23478  Sunnistan: US and Allied ‘Safe Zone’ Plan to T...   \n44896       23479  How to Blow $700 Million: Al Jazeera America F...   \n44897       23480  10 U.S. Navy Sailors Held by Iranian Military ...   \n\n                                                    text       subject  \\\n0      washington  reuters    the head of a conservat...  politicsNews   \n1      washington  reuters    transgender people will...  politicsNews   \n2      washington  reuters    the special counsel inv...  politicsNews   \n3      washington  reuters    trump campaign adviser ...  politicsNews   \n4      seattle washington  reuters    president donal...  politicsNews   \n...                                                  ...           ...   \n44893  21st century wire says as 21wire reported earl...   Middle-east   \n44894  21st century wire says it s a familiar theme  ...   Middle-east   \n44895  patrick henningsen  21st century wireremember ...   Middle-east   \n44896  21st century wire says al jazeera america will...   Middle-east   \n44897  21st century wire says as 21wire predicted in ...   Middle-east   \n\n                     date  label  \\\n0      December 31, 2017       1   \n1      December 29, 2017       1   \n2      December 31, 2017       1   \n3      December 30, 2017       1   \n4      December 29, 2017       1   \n...                   ...    ...   \n44893    January 16, 2016      0   \n44894    January 16, 2016      0   \n44895    January 15, 2016      0   \n44896    January 14, 2016      0   \n44897    January 12, 2016      0   \n\n                                                 content  \\\n0      [CLS] at December 31, 2017  [SEP], politicsNew...   \n1      [CLS] at December 29, 2017  [SEP], politicsNew...   \n2      [CLS] at December 31, 2017  [SEP], politicsNew...   \n3      [CLS] at December 30, 2017  [SEP], politicsNew...   \n4      [CLS] at December 29, 2017  [SEP], politicsNew...   \n...                                                  ...   \n44893  [CLS] at January 16, 2016 [SEP], Middle-east [...   \n44894  [CLS] at January 16, 2016 [SEP], Middle-east [...   \n44895  [CLS] at January 15, 2016 [SEP], Middle-east [...   \n44896  [CLS] at January 14, 2016 [SEP], Middle-east [...   \n44897  [CLS] at January 12, 2016 [SEP], Middle-east [...   \n\n                                               embedding  K_means  Birch  GMM  \\\n0      [0.022326546, -0.054701515, 0.020800635, -0.04...        0      1    1   \n1      [-0.054021433, -0.053802226, -0.0062716617, -0...        0      1    1   \n2      [0.042473506, 0.010865708, -0.054122575, -0.04...        0      0    1   \n3      [-0.0043542148, 0.03477461, -0.04886739, -0.05...        0      0    1   \n4      [-0.05212041, -0.052163288, -0.045429505, 0.04...        1      0    0   \n...                                                  ...      ...    ...  ...   \n44893  [-0.035157423, 0.018418824, -0.05020842, -0.02...        1      1    1   \n44894  [-0.053530693, -0.059889995, -0.045325857, 0.0...        1      1    0   \n44895  [0.041855942, -0.049123228, 0.026592048, -0.02...        1      1    0   \n44896  [-0.030299284, -0.059425127, -0.04813366, 0.03...        1      1    0   \n44897  [-0.01798755, -0.031110464, -0.052893, -0.0175...        1      1    1   \n\n       majority_voting  \n0                    1  \n1                    1  \n2                    0  \n3                    0  \n4                    0  \n...                ...  \n44893                1  \n44894                1  \n44895                1  \n44896                1  \n44897                1  \n\n[44898 rows x 12 columns]",
      "text/html": "<div>\n<style scoped>\n    .dataframe tbody tr th:only-of-type {\n        vertical-align: middle;\n    }\n\n    .dataframe tbody tr th {\n        vertical-align: top;\n    }\n\n    .dataframe thead th {\n        text-align: right;\n    }\n</style>\n<table border=\"1\" class=\"dataframe\">\n  <thead>\n    <tr style=\"text-align: right;\">\n      <th></th>\n      <th>Unnamed: 0</th>\n      <th>title</th>\n      <th>text</th>\n      <th>subject</th>\n      <th>date</th>\n      <th>label</th>\n      <th>content</th>\n      <th>embedding</th>\n      <th>K_means</th>\n      <th>Birch</th>\n      <th>GMM</th>\n      <th>majority_voting</th>\n    </tr>\n  </thead>\n  <tbody>\n    <tr>\n      <th>0</th>\n      <td>0</td>\n      <td>As U.S. budget fight looms, Republicans flip t...</td>\n      <td>washington  reuters    the head of a conservat...</td>\n      <td>politicsNews</td>\n      <td>December 31, 2017</td>\n      <td>1</td>\n      <td>[CLS] at December 31, 2017  [SEP], politicsNew...</td>\n      <td>[0.022326546, -0.054701515, 0.020800635, -0.04...</td>\n      <td>0</td>\n      <td>1</td>\n      <td>1</td>\n      <td>1</td>\n    </tr>\n    <tr>\n      <th>1</th>\n      <td>1</td>\n      <td>U.S. military to accept transgender recruits o...</td>\n      <td>washington  reuters    transgender people will...</td>\n      <td>politicsNews</td>\n      <td>December 29, 2017</td>\n      <td>1</td>\n      <td>[CLS] at December 29, 2017  [SEP], politicsNew...</td>\n      <td>[-0.054021433, -0.053802226, -0.0062716617, -0...</td>\n      <td>0</td>\n      <td>1</td>\n      <td>1</td>\n      <td>1</td>\n    </tr>\n    <tr>\n      <th>2</th>\n      <td>2</td>\n      <td>Senior U.S. Republican senator: 'Let Mr. Muell...</td>\n      <td>washington  reuters    the special counsel inv...</td>\n      <td>politicsNews</td>\n      <td>December 31, 2017</td>\n      <td>1</td>\n      <td>[CLS] at December 31, 2017  [SEP], politicsNew...</td>\n      <td>[0.042473506, 0.010865708, -0.054122575, -0.04...</td>\n      <td>0</td>\n      <td>0</td>\n      <td>1</td>\n      <td>0</td>\n    </tr>\n    <tr>\n      <th>3</th>\n      <td>3</td>\n      <td>FBI Russia probe helped by Australian diplomat...</td>\n      <td>washington  reuters    trump campaign adviser ...</td>\n      <td>politicsNews</td>\n      <td>December 30, 2017</td>\n      <td>1</td>\n      <td>[CLS] at December 30, 2017  [SEP], politicsNew...</td>\n      <td>[-0.0043542148, 0.03477461, -0.04886739, -0.05...</td>\n      <td>0</td>\n      <td>0</td>\n      <td>1</td>\n      <td>0</td>\n    </tr>\n    <tr>\n      <th>4</th>\n      <td>4</td>\n      <td>Trump wants Postal Service to charge 'much mor...</td>\n      <td>seattle washington  reuters    president donal...</td>\n      <td>politicsNews</td>\n      <td>December 29, 2017</td>\n      <td>1</td>\n      <td>[CLS] at December 29, 2017  [SEP], politicsNew...</td>\n      <td>[-0.05212041, -0.052163288, -0.045429505, 0.04...</td>\n      <td>1</td>\n      <td>0</td>\n      <td>0</td>\n      <td>0</td>\n    </tr>\n    <tr>\n      <th>...</th>\n      <td>...</td>\n      <td>...</td>\n      <td>...</td>\n      <td>...</td>\n      <td>...</td>\n      <td>...</td>\n      <td>...</td>\n      <td>...</td>\n      <td>...</td>\n      <td>...</td>\n      <td>...</td>\n      <td>...</td>\n    </tr>\n    <tr>\n      <th>44893</th>\n      <td>23476</td>\n      <td>McPain: John McCain Furious That Iran Treated ...</td>\n      <td>21st century wire says as 21wire reported earl...</td>\n      <td>Middle-east</td>\n      <td>January 16, 2016</td>\n      <td>0</td>\n      <td>[CLS] at January 16, 2016 [SEP], Middle-east [...</td>\n      <td>[-0.035157423, 0.018418824, -0.05020842, -0.02...</td>\n      <td>1</td>\n      <td>1</td>\n      <td>1</td>\n      <td>1</td>\n    </tr>\n    <tr>\n      <th>44894</th>\n      <td>23477</td>\n      <td>JUSTICE? Yahoo Settles E-mail Privacy Class-ac...</td>\n      <td>21st century wire says it s a familiar theme  ...</td>\n      <td>Middle-east</td>\n      <td>January 16, 2016</td>\n      <td>0</td>\n      <td>[CLS] at January 16, 2016 [SEP], Middle-east [...</td>\n      <td>[-0.053530693, -0.059889995, -0.045325857, 0.0...</td>\n      <td>1</td>\n      <td>1</td>\n      <td>0</td>\n      <td>1</td>\n    </tr>\n    <tr>\n      <th>44895</th>\n      <td>23478</td>\n      <td>Sunnistan: US and Allied ‘Safe Zone’ Plan to T...</td>\n      <td>patrick henningsen  21st century wireremember ...</td>\n      <td>Middle-east</td>\n      <td>January 15, 2016</td>\n      <td>0</td>\n      <td>[CLS] at January 15, 2016 [SEP], Middle-east [...</td>\n      <td>[0.041855942, -0.049123228, 0.026592048, -0.02...</td>\n      <td>1</td>\n      <td>1</td>\n      <td>0</td>\n      <td>1</td>\n    </tr>\n    <tr>\n      <th>44896</th>\n      <td>23479</td>\n      <td>How to Blow $700 Million: Al Jazeera America F...</td>\n      <td>21st century wire says al jazeera america will...</td>\n      <td>Middle-east</td>\n      <td>January 14, 2016</td>\n      <td>0</td>\n      <td>[CLS] at January 14, 2016 [SEP], Middle-east [...</td>\n      <td>[-0.030299284, -0.059425127, -0.04813366, 0.03...</td>\n      <td>1</td>\n      <td>1</td>\n      <td>0</td>\n      <td>1</td>\n    </tr>\n    <tr>\n      <th>44897</th>\n      <td>23480</td>\n      <td>10 U.S. Navy Sailors Held by Iranian Military ...</td>\n      <td>21st century wire says as 21wire predicted in ...</td>\n      <td>Middle-east</td>\n      <td>January 12, 2016</td>\n      <td>0</td>\n      <td>[CLS] at January 12, 2016 [SEP], Middle-east [...</td>\n      <td>[-0.01798755, -0.031110464, -0.052893, -0.0175...</td>\n      <td>1</td>\n      <td>1</td>\n      <td>1</td>\n      <td>1</td>\n    </tr>\n  </tbody>\n</table>\n<p>44898 rows × 12 columns</p>\n</div>"
     },
     "execution_count": 74,
     "metadata": {},
     "output_type": "execute_result"
    }
   ],
   "source": [
    "merged"
   ],
   "metadata": {
    "collapsed": false
   }
  },
  {
   "cell_type": "code",
   "execution_count": 75,
   "outputs": [],
   "source": [
    "merged_accuracy= accuracy_score(merged.label, merged.majority_voting)"
   ],
   "metadata": {
    "collapsed": false
   }
  },
  {
   "cell_type": "code",
   "execution_count": 76,
   "outputs": [
    {
     "data": {
      "text/plain": "0.6818121074435387"
     },
     "execution_count": 76,
     "metadata": {},
     "output_type": "execute_result"
    }
   ],
   "source": [
    "merged_accuracy"
   ],
   "metadata": {
    "collapsed": false
   }
  },
  {
   "cell_type": "code",
   "execution_count": 77,
   "outputs": [],
   "source": [
    "merged.to_csv(\"datasets/ISOT/merged/dataset_labeled.csv\")"
   ],
   "metadata": {
    "collapsed": false
   }
  }
 ],
 "metadata": {
  "kernelspec": {
   "display_name": "Python 3",
   "language": "python",
   "name": "python3"
  },
  "language_info": {
   "codemirror_mode": {
    "name": "ipython",
    "version": 2
   },
   "file_extension": ".py",
   "mimetype": "text/x-python",
   "name": "python",
   "nbconvert_exporter": "python",
   "pygments_lexer": "ipython2",
   "version": "2.7.6"
  }
 },
 "nbformat": 4,
 "nbformat_minor": 0
}
